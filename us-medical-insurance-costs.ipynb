{
 "cells": [
  {
   "cell_type": "markdown",
   "metadata": {
    "jp-MarkdownHeadingCollapsed": true,
    "tags": []
   },
   "source": [
    "# U.S. Medical Insurance Costs"
   ]
  },
  {
   "cell_type": "markdown",
   "metadata": {},
   "source": [
    "# Scope of the project\n",
    "\n",
    "## What do I want to achieve with this project\n",
    "\n",
    "A proper analysis of medical insurance costs where I can use each variable given and obtain valuable insights for each, i.e. how they affect the cost of each individual. I can use some conditionals to obtain data for a certain age group or BMI group, for example. It will be vital to make multiple sorted list, where you can group data and display statistics for each group separately.\n",
    "\n",
    "__The ultimate goal is to have done at least a single piece of analysis for each different field available.__\n",
    "\n",
    "### Importing data into useful format\n",
    "\n",
    "Seeing as our data is arranged in tabular form in a csv file, we can use the `csv` library to get our data into dictionaries and then possibly lists so we have our data in a format that is easy to conduct analysis on.\n",
    "\n",
    "### EXAMPLE: Age category\n",
    "\n",
    "The age category is an interesing variable but will not tell much about the cost without the other factors, age combined with other factors will be an interesting variable to analyse. I will try to analyse data for 3 distinct groups, people below the age of 20 (called 'Zoomers'), people below the age of 40 (called 'Millenials'), people below the age of 65 (called 'Boomers')."
   ]
  },
  {
   "cell_type": "markdown",
   "metadata": {},
   "source": [
    "1. Importing data from `insurance.csv` into dictionaries"
   ]
  },
  {
   "cell_type": "code",
   "execution_count": 157,
   "metadata": {},
   "outputs": [],
   "source": [
    "import csv\n",
    "\n",
    "ages = []\n",
    "sex = []\n",
    "bmis = []\n",
    "children = []\n",
    "smoker = []\n",
    "region = []\n",
    "charges = []\n",
    "\n",
    "with open('insurance.csv', newline = '') as insurance_data:\n",
    "    data = csv.DictReader(insurance_data)\n",
    "    for row in data:\n",
    "        ages.append(row['age'])\n",
    "        sex.append(row['sex'])\n",
    "        bmis.append(row['bmi'])\n",
    "        children.append(row['children'])\n",
    "        smoker.append(row['smoker'])\n",
    "        region.append(row['region'])\n",
    "        charges.append(row['charges'])\n",
    "        \n",
    "#create unique identifier for each row\n",
    "unique_ids = []\n",
    "for iteration in range(1,len(ages)+1):\n",
    "    unique_ids.append(iteration)"
   ]
  },
  {
   "cell_type": "markdown",
   "metadata": {},
   "source": [
    "2. Put the information in a master dictionary containing data for each column as `key:value` for each unique ID separately"
   ]
  },
  {
   "cell_type": "code",
   "execution_count": 158,
   "metadata": {},
   "outputs": [],
   "source": [
    "master_dictionary = {}\n",
    "\n",
    "#Create a list with each row in our `insurance.csv` file having a sublist\n",
    "master_list = list(zip(unique_ids, ages, sex, bmis, children, smoker, region, charges))\n",
    "#print(master_list)\n",
    "\n",
    "for i in range(len(unique_ids)):\n",
    "    master_dictionary[unique_ids[i]] = {\"ID\": unique_ids[i],\n",
    "                                        \"Age\": ages[i],\n",
    "                                        \"Sex\": sex[i],\n",
    "                                        \"BMI\": bmis[i],\n",
    "                                        \"Children\": children[i],\n",
    "                                        \"Smoker\": smoker[i],\n",
    "                                        \"Region\": region[i],\n",
    "                                        \"Charges\": charges[i]\n",
    "                                       }\n",
    "\n",
    "#print(master_dictionary)"
   ]
  },
  {
   "cell_type": "markdown",
   "metadata": {},
   "source": [
    "### `AGE` analysis: I will conduct various studies here, for example, how many Males v Females are there in each age bracket? What is the average BMI of a certain age bracket? How many smokers are there in each age bracket? What is the average medical charge for each age bracket?"
   ]
  },
  {
   "cell_type": "markdown",
   "metadata": {},
   "source": [
    "1. The first thing to do is to compile the data for every unique ID into their respective age brackets so that we can start the analysis."
   ]
  },
  {
   "cell_type": "code",
   "execution_count": 159,
   "metadata": {},
   "outputs": [],
   "source": [
    "def separate_age_brackets():\n",
    "# Initialise lists to store IDs for each age bracket\n",
    "    Zoomers = [] #Age 19 and below\n",
    "    Millenials = [] #Age >=20 and < 40\n",
    "    Boomers = [] #Age >=40 and < 65\n",
    "    for item in master_dictionary:\n",
    "        UID = master_dictionary[item]['ID']\n",
    "        age = int(master_dictionary[item]['Age'])\n",
    "        if age > 0 and age < 20:\n",
    "            Zoomers.append(UID)\n",
    "            master_dictionary[item]['Age group'] = 'Zoomer'\n",
    "        elif age >= 20 and age < 40:\n",
    "            Millenials.append(UID)\n",
    "            master_dictionary[item]['Age group'] = 'Millenial'\n",
    "        elif age >= 40 and age < 65:\n",
    "            Boomers.append(UID)\n",
    "            master_dictionary[item]['Age group'] = 'Boomer'\n",
    "        else:\n",
    "            pass\n",
    "    return Zoomers, Millenials, Boomers\n",
    "    \n",
    "Zoomers, Millenials, Boomers = separate_age_brackets()\n",
    "\n",
    "def dict_by_agegroup():\n",
    "    age_group_dict = dict()\n",
    "    for item in master_dictionary:\n",
    "        UID = master_dictionary[item]['ID'] \n",
    "        age_group = master_dictionary[item]['Age group']\n",
    "        if age_group not in age_group_dict:\n",
    "            age_group_dict[age_group] = [master_dictionary[item]]\n",
    "        else:\n",
    "            age_group_dict[age_group].append(master_dictionary[item])\n",
    "    return age_group_dict\n",
    "            \n",
    "#Creates a dictionary grouped by age group, now it's easy to analyse data for each group\n",
    "age_group_dict = dict_by_agegroup()\n",
    "#print(age_group_dict)"
   ]
  },
  {
   "cell_type": "markdown",
   "metadata": {},
   "source": [
    "2. What is the male v female count of each age group? What is the average cost for males vs females in each group? What is the BMI difference in male vs female of each age group?"
   ]
  },
  {
   "cell_type": "code",
   "execution_count": 160,
   "metadata": {},
   "outputs": [
    {
     "name": "stdout",
     "output_type": "stream",
     "text": [
      "There are 66 female Zoomers in our records.\n",
      "There are 71 male Zoomers in our records.\n",
      "There are 262 female Millenials in our records.\n",
      "There are 275 male Millenials in our records.\n",
      "There are 334 female Boomers in our records.\n",
      "There are 330 male Boomers in our records.\n",
      "All in all, there are 662 females and 676 males in our insurance.csv dataset. The numbers are almost equal, meaning our data is not biased towards any sex if any further model is to be based on this dataset.\n"
     ]
    },
    {
     "data": {
      "text/plain": [
       "\"Seems like there are pretty much an equal amount of females to males in each category, this is important as we don't\\nhave too many people of the same sex in any category, making our data records biased.\""
      ]
     },
     "execution_count": 160,
     "metadata": {},
     "output_type": "execute_result"
    }
   ],
   "source": [
    "#Get the total number of people in each age group\n",
    "num_zoomers, num_millenials, num_boomers = len(Zoomers), len(Millenials), len(Boomers)\n",
    "\n",
    "z_females = 0\n",
    "z_males = 0\n",
    "m_females = 0\n",
    "m_males = 0\n",
    "b_females = 0\n",
    "b_males = 0\n",
    "\n",
    "for item in master_dictionary:\n",
    "    sex = master_dictionary[item]['Sex']\n",
    "    age_group = master_dictionary[item]['Age group']\n",
    "    if age_group == 'Zoomer':\n",
    "        if sex == 'male':\n",
    "            z_males += 1\n",
    "        elif sex == 'female':\n",
    "            z_females += 1\n",
    "    elif age_group == 'Millenial':\n",
    "        if sex == 'male':\n",
    "            m_males += 1\n",
    "        elif sex == 'female':\n",
    "            m_females += 1\n",
    "    elif age_group == 'Boomer':\n",
    "        if sex == 'male':\n",
    "            b_males += 1\n",
    "        elif sex == 'female':\n",
    "            b_females += 1\n",
    "\n",
    "# We now have the number of males and females in each group\n",
    "\n",
    "for item in ['Zoomers', 'Millenials', 'Boomers']:\n",
    "    if item == 'Zoomers':\n",
    "        print('There are', z_females, 'female', item + ' in our records.')\n",
    "        print('There are', z_males, 'male', item + ' in our records.')\n",
    "    elif item == 'Millenials':\n",
    "        print('There are', m_females, 'female', item + ' in our records.')\n",
    "        print('There are', m_males, 'male', item+ ' in our records.')\n",
    "    else:\n",
    "        print('There are', b_females, 'female', item + ' in our records.')\n",
    "        print('There are', b_males, 'male', item + ' in our records.')\n",
    "        \n",
    "print(\"All in all, there are \" + str(z_females+m_females+b_females) + \" females and \" + str(z_males+m_males+b_males) + \" males in our insurance.csv dataset. The numbers are almost equal, meaning our data is not biased towards any sex if any further model is to be based on this dataset.\")\n",
    "        \n",
    "\"\"\"Seems like there are pretty much an equal amount of females to males in each category, this is important as we don't\n",
    "have too many people of the same sex in any category, making our data records biased.\"\"\""
   ]
  },
  {
   "cell_type": "code",
   "execution_count": 161,
   "metadata": {},
   "outputs": [
    {
     "name": "stdout",
     "output_type": "stream",
     "text": [
      "The data for average costs for females and males in each category: {'Female': {'Zoomer': 8067, 'Millenial': 9588, 'Boomer': 15797}, 'Male': {'Zoomer': 8723, 'Millenial': 11570, 'Boomer': 17071}}\n"
     ]
    },
    {
     "data": {
      "text/plain": [
       "'It seems that the costs for males are on average higher than those for females in the same age group, but this data should be taken with a grain of salt; the age groups have a massive range spanning around 20 years for each, and this could be the difference between having 0 children or 3 children, significantly altering the charges.'"
      ]
     },
     "execution_count": 161,
     "metadata": {},
     "output_type": "execute_result"
    }
   ],
   "source": [
    "def tot_cost():\n",
    "    #initialise the variables that will store the total cost for each sex within each age group\n",
    "    zf_cost, zm_cost, mf_cost, mm_cost, bf_cost, bm_cost = 0, 0, 0, 0, 0, 0\n",
    "    for item in master_dictionary:\n",
    "        sex = master_dictionary[item]['Sex']\n",
    "        age_group = master_dictionary[item]['Age group']\n",
    "        cost = float(master_dictionary[item]['Charges'])\n",
    "        if age_group == 'Zoomer':\n",
    "            if sex == 'female':\n",
    "                zf_cost += cost\n",
    "            elif sex == 'male':\n",
    "                zm_cost += cost\n",
    "        elif age_group == 'Millenial':\n",
    "            if sex == 'female':\n",
    "                mf_cost += cost\n",
    "            elif sex == 'male':\n",
    "                mm_cost += cost\n",
    "        elif age_group == 'Boomer':\n",
    "            if sex == 'female':\n",
    "                bf_cost += cost\n",
    "            elif sex == 'male':\n",
    "                bm_cost += cost\n",
    "    return zf_cost, zm_cost, mf_cost, mm_cost, bf_cost, bm_cost\n",
    "\n",
    "#call the function that will return the total costs for each sex within each age group\n",
    "zF_c, zM_c, mF_c, mM_c, bF_c, bM_c = tot_cost()\n",
    "\n",
    "MF_totalcost_dict = {\"Female\": {\"Zoomer\": zF_c, \"Millenial\": mF_c, \"Boomer\": bF_c},\n",
    "                    \"Male\": {\"Zoomer\": zM_c, \"Millenial\": mM_c, \"Boomer\": bM_c}}\n",
    "\n",
    "#print(MF_totalcost_dict)\n",
    "\n",
    "MF_avgcost_dict = {\"Female\": {\"Zoomer\": int(zF_c/z_females), \"Millenial\": int(mF_c/m_females), \"Boomer\": int(bF_c/b_females)},\n",
    "                    \"Male\": {\"Zoomer\": int(zM_c/z_males), \"Millenial\": int(mM_c/m_males), \"Boomer\": int(bM_c/b_males)}}\n",
    "\n",
    "print(\"The data for average costs for females and males in each category:\", MF_avgcost_dict)\n",
    "\n",
    "\"\"\"It seems that the costs for males are on average higher than those for females in the same age group, but this data should be taken with a grain of salt; the age groups have a massive range spanning around 20 years for each, and this could be the difference between having 0 children or 3 children, significantly altering the charges.\"\"\""
   ]
  },
  {
   "cell_type": "code",
   "execution_count": 170,
   "metadata": {},
   "outputs": [
    {
     "name": "stdout",
     "output_type": "stream",
     "text": [
      "{'Zoomer': {'Female': 30.984848484848484, 'Male': 29.0}, 'Millenial': {'Female': 29.31679389312977, 'Male': 30.861818181818183}, 'Boomer': {'Female': 31.107784431137723, 'Male': 31.412121212121214}}\n"
     ]
    }
   ],
   "source": [
    "def tot_bmi():\n",
    "    #initialise the variables that will store the total cost for each sex within each age group\n",
    "    zf_bmi, zm_bmi, mf_bmi, mm_bmi, bf_bmi, bm_bmi = 0, 0, 0, 0, 0, 0\n",
    "    total_bmi_dict = {}\n",
    "    avg_bmi_dict = {}\n",
    "    for item in master_dictionary:\n",
    "        sex = master_dictionary[item]['Sex']\n",
    "        age_group = master_dictionary[item]['Age group']\n",
    "        bmi = round(float(master_dictionary[item]['BMI']))\n",
    "        if age_group == 'Zoomer':\n",
    "            if sex == 'female':\n",
    "                zf_bmi += bmi\n",
    "            elif sex == 'male':\n",
    "                zm_bmi += bmi\n",
    "        elif age_group == 'Millenial':\n",
    "            if sex == 'female':\n",
    "                mf_bmi += bmi\n",
    "            elif sex == 'male':\n",
    "                mm_bmi += bmi\n",
    "        elif age_group == 'Boomer':\n",
    "            if sex == 'female':\n",
    "                bf_bmi += bmi\n",
    "            elif sex == 'male':\n",
    "                bm_bmi += bmi\n",
    "    total_bmi_dict.update({'Zoomer':{'Female': zf_bmi, 'Male': zm_bmi}})\n",
    "    total_bmi_dict.update({'Millenial': {'Female': mf_bmi, 'Male': mm_bmi}})\n",
    "    total_bmi_dict.update({'Boomer': {'Female': bf_bmi, 'Male': bm_bmi}})\n",
    "    avg_bmi_dict.update({'Zoomer':{'Female': zf_bmi/z_females, 'Male': zm_bmi/z_males}})\n",
    "    avg_bmi_dict.update({'Millenial': {'Female': mf_bmi/m_females, 'Male': mm_bmi/m_males}})\n",
    "    avg_bmi_dict.update({'Boomer': {'Female': bf_bmi/b_females, 'Male': bm_bmi/b_males}})\n",
    "    return total_bmi_dict, avg_bmi_dict\n",
    "\n",
    "total_bmi_dict, avg_bmi_dict = tot_bmi()\n",
    "\n",
    "print(avg_bmi_dict)"
   ]
  },
  {
   "cell_type": "markdown",
   "metadata": {},
   "source": [
    "### `BMI` category: According to the CDC (https://www.cdc.gov/obesity/basics/adult-defining.html), people with a BMI < 18.5 fall in the 'underweight' category, people with BMI >= 18.5 and < 25 fall in the 'healthy' range, people with bmi >= 25 and < 30 fall into the 'overweight' category, and people with bmi >=30 are classified as 'obese'. I will now calculate the average medical cost for people in each category."
   ]
  },
  {
   "cell_type": "markdown",
   "metadata": {},
   "source": [
    "1. Make a dictionary that is grouped by each BMI category, so that we can easily do the rest of the analysis."
   ]
  },
  {
   "cell_type": "code",
   "execution_count": 189,
   "metadata": {
    "tags": []
   },
   "outputs": [],
   "source": [
    "for item in master_dictionary:\n",
    "    bmi = float(master_dictionary[item]['BMI'])\n",
    "    record = master_dictionary[item]\n",
    "    if bmi < 18.5:\n",
    "        master_dictionary[item]['BMI_cat'] = 'Underweight'\n",
    "    elif bmi >= 18.5 and bmi < 25:\n",
    "        master_dictionary[item]['BMI_cat'] = 'Healthy'\n",
    "    elif bmi >= 25 and bmi < 30:\n",
    "        master_dictionary[item]['BMI_cat'] = 'Overweight'\n",
    "    elif bmi >= 30:\n",
    "        master_dictionary[item]['BMI_cat'] = 'Obese'\n",
    "                \n",
    "def bmi_dict():\n",
    "    bmi_dict = {}\n",
    "    for item in master_dictionary:\n",
    "        bmi_cat = master_dictionary[item]['BMI_cat']\n",
    "        if bmi_cat not in bmi_dict:\n",
    "            bmi_dict[bmi_cat] = [master_dictionary[item]]\n",
    "        else:\n",
    "            bmi_dict[bmi_cat].append(master_dictionary[item])\n",
    "    return bmi_dict\n",
    "\n",
    "BMI_dictionary = bmi_dict()"
   ]
  },
  {
   "cell_type": "markdown",
   "metadata": {},
   "source": [
    "2. Now calculate the average medical insurance charges (cost) for each BMI category. I will also calculate the number of males and females in each category."
   ]
  },
  {
   "cell_type": "code",
   "execution_count": 188,
   "metadata": {},
   "outputs": [
    {
     "name": "stdout",
     "output_type": "stream",
     "text": [
      "{'Average cost for underweights:': '$8852', 'Average cost for healthy:': '$10409', 'Average cost for overweights:': '$10988', 'Average cost for obese:': '$15552'}\n"
     ]
    }
   ],
   "source": [
    "def avg_cost_byBMI():\n",
    "    tot_cost_u = 0\n",
    "    tot_cost_h = 0\n",
    "    tot_cost_ov = 0\n",
    "    tot_cost_ob = 0\n",
    "    final_dictionary = {}\n",
    "    for each_list in BMI_dictionary.values():\n",
    "        for dictionary in each_list:\n",
    "            cost = float(dictionary['Charges'])\n",
    "            if dictionary['BMI_cat'] == 'Underweight':\n",
    "                tot_cost_u += cost\n",
    "            elif dictionary['BMI_cat'] == 'Healthy':\n",
    "                tot_cost_h += cost\n",
    "            elif dictionary['BMI_cat'] == 'Overweight':\n",
    "                tot_cost_ov += cost\n",
    "            else:\n",
    "                tot_cost_ob += cost\n",
    "    avg_cost_u = tot_cost_u/len(BMI_dictionary['Underweight'])\n",
    "    avg_cost_h = tot_cost_h/len(BMI_dictionary['Healthy'])\n",
    "    avg_cost_ov = tot_cost_ov/len(BMI_dictionary['Overweight'])\n",
    "    avg_cost_ob = tot_cost_ob/len(BMI_dictionary['Obese'])\n",
    "    final_dictionary.update({\"Average cost for underweights:\": ''.join(['$',str(round(avg_cost_u))]),\n",
    "                       \"Average cost for healthy:\": ''.join(['$',str(round(avg_cost_h))]),\n",
    "                       \"Average cost for overweights:\": ''.join(['$',str(round(avg_cost_ov))]),\n",
    "                       \"Average cost for obese:\": ''.join(['$',str(round(avg_cost_ob))])\n",
    "                      })\n",
    "    return final_dictionary\n",
    "\n",
    "average_cost_by_bmicat = avg_cost_byBMI()\n",
    "print(average_cost_by_bmicat)   "
   ]
  },
  {
   "cell_type": "code",
   "execution_count": 187,
   "metadata": {},
   "outputs": [
    {
     "name": "stdout",
     "output_type": "stream",
     "text": [
      "{'Underweight': {'Females': 12, 'Males': 8}, 'Healthy': {'Females': 117, 'Males': 108}, 'Overweight': {'Females': 199, 'Males': 187}, 'Obese': {'Females': 334, 'Males': 373}}\n"
     ]
    }
   ],
   "source": [
    "count_uf, count_hf, count_ovf, count_obf = 0, 0, 0, 0\n",
    "count_um, count_hm, count_ovm, count_obm = 0, 0, 0, 0\n",
    "\n",
    "for item in BMI_dictionary.values():\n",
    "    for each_dict in item:\n",
    "        sex = each_dict['Sex']\n",
    "        BMI_cat = each_dict['BMI_cat']\n",
    "        if BMI_cat == 'Underweight':\n",
    "            if sex == 'female':\n",
    "                count_uf +=1\n",
    "            elif sex == 'male':\n",
    "                count_um += 1\n",
    "        elif BMI_cat == 'Healthy':\n",
    "            if sex == 'female':\n",
    "                count_hf += 1\n",
    "            elif sex == 'male':\n",
    "                count_hm += 1\n",
    "        elif BMI_cat == 'Overweight':\n",
    "            if sex == 'female':\n",
    "                count_ovf += 1\n",
    "            elif sex == 'male':\n",
    "                count_ovm += 1\n",
    "        elif BMI_cat == 'Obese':\n",
    "            if sex == 'female':\n",
    "                count_obf += 1\n",
    "            elif sex == 'male':\n",
    "                count_obm += 1\n",
    "    \n",
    "MF_by_BMI_cat = {\"Underweight\": {\"Females\": count_uf, \"Males\": count_um},\n",
    "                     \"Healthy\": {\"Females\": count_hf, \"Males\": count_hm},\n",
    "                     \"Overweight\": {\"Females\": count_ovf, \"Males\": count_ovm},\n",
    "                     \"Obese\": {\"Females\": count_obf, \"Males\": count_obm}\n",
    "                    }\n",
    "    \n",
    "print(MF_by_BMI_cat)"
   ]
  }
 ],
 "metadata": {
  "kernelspec": {
   "display_name": "Python 3",
   "language": "python",
   "name": "python3"
  },
  "language_info": {
   "codemirror_mode": {
    "name": "ipython",
    "version": 3
   },
   "file_extension": ".py",
   "mimetype": "text/x-python",
   "name": "python",
   "nbconvert_exporter": "python",
   "pygments_lexer": "ipython3",
   "version": "3.7.3"
  }
 },
 "nbformat": 4,
 "nbformat_minor": 4
}
